{
  "nbformat": 4,
  "nbformat_minor": 0,
  "metadata": {
    "colab": {
      "name": "score_prediction.ipynb",
      "provenance": [],
      "authorship_tag": "ABX9TyNZxf/tsfJyx16zu65Cz+p4",
      "include_colab_link": true
    },
    "kernelspec": {
      "name": "python3",
      "display_name": "Python 3"
    },
    "language_info": {
      "name": "python"
    }
  },
  "cells": [
    {
      "cell_type": "markdown",
      "metadata": {
        "id": "view-in-github",
        "colab_type": "text"
      },
      "source": [
        "<a href=\"https://colab.research.google.com/github/Sharvari-Govele/Supervised_Machine-Learning/blob/main/score_prediction.ipynb\" target=\"_parent\"><img src=\"https://colab.research.google.com/assets/colab-badge.svg\" alt=\"Open In Colab\"/></a>"
      ]
    },
    {
      "cell_type": "markdown",
      "source": [
        "### **Level : Beginner**\n",
        "\n",
        "###**Task  : Prediction Using Supervised ML**\n",
        " "
      ],
      "metadata": {
        "id": "W-uvhjh5nJVY"
      }
    },
    {
      "cell_type": "markdown",
      "source": [
        "***In this regression task we will predict the percentage of marks that a student is expected to score based upon the number of hours they studied.***"
      ],
      "metadata": {
        "id": "97lKvypGnodA"
      }
    },
    {
      "cell_type": "markdown",
      "source": [
        "### **Loading Packages**"
      ],
      "metadata": {
        "id": "DtNMp4u8ToDr"
      }
    },
    {
      "cell_type": "code",
      "source": [
        "#importing required libraries\n",
        "import pandas as pd\n",
        "import numpy as np\n",
        "import matplotlib.pyplot as plt\n",
        "import seaborn as sns"
      ],
      "metadata": {
        "id": "BHivv_V9nyH9"
      },
      "execution_count": null,
      "outputs": []
    },
    {
      "cell_type": "markdown",
      "source": [
        "###**Reading Data from remote url**"
      ],
      "metadata": {
        "id": "EofT3BE46e3M"
      }
    },
    {
      "cell_type": "code",
      "source": [
        "data=pd.read_csv(\"http://bit.ly/w-data\")\n",
        "data.head()"
      ],
      "metadata": {
        "colab": {
          "base_uri": "https://localhost:8080/",
          "height": 206
        },
        "id": "962ah1X96mwu",
        "outputId": "f4998852-5261-4283-fec7-b1ac64402c3f"
      },
      "execution_count": null,
      "outputs": [
        {
          "output_type": "execute_result",
          "data": {
            "text/html": [
              "<div>\n",
              "<style scoped>\n",
              "    .dataframe tbody tr th:only-of-type {\n",
              "        vertical-align: middle;\n",
              "    }\n",
              "\n",
              "    .dataframe tbody tr th {\n",
              "        vertical-align: top;\n",
              "    }\n",
              "\n",
              "    .dataframe thead th {\n",
              "        text-align: right;\n",
              "    }\n",
              "</style>\n",
              "<table border=\"1\" class=\"dataframe\">\n",
              "  <thead>\n",
              "    <tr style=\"text-align: right;\">\n",
              "      <th></th>\n",
              "      <th>Hours</th>\n",
              "      <th>Scores</th>\n",
              "    </tr>\n",
              "  </thead>\n",
              "  <tbody>\n",
              "    <tr>\n",
              "      <th>0</th>\n",
              "      <td>2.5</td>\n",
              "      <td>21</td>\n",
              "    </tr>\n",
              "    <tr>\n",
              "      <th>1</th>\n",
              "      <td>5.1</td>\n",
              "      <td>47</td>\n",
              "    </tr>\n",
              "    <tr>\n",
              "      <th>2</th>\n",
              "      <td>3.2</td>\n",
              "      <td>27</td>\n",
              "    </tr>\n",
              "    <tr>\n",
              "      <th>3</th>\n",
              "      <td>8.5</td>\n",
              "      <td>75</td>\n",
              "    </tr>\n",
              "    <tr>\n",
              "      <th>4</th>\n",
              "      <td>3.5</td>\n",
              "      <td>30</td>\n",
              "    </tr>\n",
              "  </tbody>\n",
              "</table>\n",
              "</div>"
            ],
            "text/plain": [
              "   Hours  Scores\n",
              "0    2.5      21\n",
              "1    5.1      47\n",
              "2    3.2      27\n",
              "3    8.5      75\n",
              "4    3.5      30"
            ]
          },
          "metadata": {},
          "execution_count": 150
        }
      ]
    },
    {
      "cell_type": "markdown",
      "source": [
        "**The task has two variables where the feature is the no. of hours and the target value is percentage score. This can be solved using simple linear regression as it involves just two variables.**"
      ],
      "metadata": {
        "id": "WMg_M7hxI3vr"
      }
    },
    {
      "cell_type": "markdown",
      "source": [
        "###**Exploring data**"
      ],
      "metadata": {
        "id": "kf0F1Cot8dem"
      }
    },
    {
      "cell_type": "code",
      "source": [
        "data.shape"
      ],
      "metadata": {
        "id": "v7X_1b8V600K"
      },
      "execution_count": null,
      "outputs": []
    },
    {
      "cell_type": "code",
      "source": [
        "data.describe()"
      ],
      "metadata": {
        "id": "4yfwgU257F7K"
      },
      "execution_count": null,
      "outputs": []
    },
    {
      "cell_type": "code",
      "source": [
        "data.info()"
      ],
      "metadata": {
        "id": "WxFmqbYr7LMu"
      },
      "execution_count": null,
      "outputs": []
    },
    {
      "cell_type": "markdown",
      "source": [
        "###**Visualizing data**"
      ],
      "metadata": {
        "id": "MrK9MjN2GdeH"
      }
    },
    {
      "cell_type": "code",
      "source": [
        "data.plot('Hours','Scores', style='o')\n",
        "plt.title('Hours vs Percentage')  \n",
        "plt.xlabel('Hours Studied')  \n",
        "plt.ylabel('Percentage Score')  \n",
        "plt.show()"
      ],
      "metadata": {
        "id": "O636ozUD7STM"
      },
      "execution_count": null,
      "outputs": []
    },
    {
      "cell_type": "code",
      "source": [
        "sns.boxplot(data['Hours'])"
      ],
      "metadata": {
        "id": "uLomTzgH89RD"
      },
      "execution_count": null,
      "outputs": []
    },
    {
      "cell_type": "code",
      "source": [
        "sns.boxplot(data['Scores'])"
      ],
      "metadata": {
        "id": "5GERwmE59sKI"
      },
      "execution_count": null,
      "outputs": []
    },
    {
      "cell_type": "markdown",
      "source": [
        "***From above plotings we can clearly see there is no outlier and null value***"
      ],
      "metadata": {
        "id": "-ZQMDYP_CaaO"
      }
    },
    {
      "cell_type": "code",
      "source": [
        "data.corr()"
      ],
      "metadata": {
        "id": "6HhYlwm77oG-"
      },
      "execution_count": null,
      "outputs": []
    },
    {
      "cell_type": "markdown",
      "source": [
        "**From above ploting and correlation we can see that there is positive linear relation between the number of hours studied and percentage of score.**"
      ],
      "metadata": {
        "id": "le-Di0EwGqcM"
      }
    },
    {
      "cell_type": "markdown",
      "source": [
        "###**Preparing Data**\n"
      ],
      "metadata": {
        "id": "UwKlvzCzH98M"
      }
    },
    {
      "cell_type": "code",
      "source": [
        "X = data.iloc[:, :-1].values  \n",
        "y = data.iloc[:, 1].values  "
      ],
      "metadata": {
        "id": "EqmT2CzMIDrM"
      },
      "execution_count": null,
      "outputs": []
    },
    {
      "cell_type": "code",
      "source": [
        "from sklearn.model_selection import train_test_split  \n",
        "x_train, x_test, y_train, y_test = train_test_split(X, y,test_size=0.2, random_state=42)"
      ],
      "metadata": {
        "id": "JJGWsWV7JcGu"
      },
      "execution_count": null,
      "outputs": []
    },
    {
      "cell_type": "markdown",
      "source": [
        "### **Linear Regression**"
      ],
      "metadata": {
        "id": "xu8ei_f7KTGa"
      }
    },
    {
      "cell_type": "code",
      "source": [
        "from sklearn.linear_model import LinearRegression  \n",
        "model= LinearRegression()  \n",
        "model.fit(x_train, y_train)"
      ],
      "metadata": {
        "colab": {
          "base_uri": "https://localhost:8080/"
        },
        "id": "3rGDIHCRKaHc",
        "outputId": "5e109519-f837-4e56-c653-3398cfb16a71"
      },
      "execution_count": null,
      "outputs": [
        {
          "output_type": "execute_result",
          "data": {
            "text/plain": [
              "LinearRegression()"
            ]
          },
          "metadata": {},
          "execution_count": 144
        }
      ]
    },
    {
      "cell_type": "code",
      "source": [
        "# Plotting the regression line\n",
        "m=model.coef_\n",
        "c=model.intercept_\n",
        "line = m*X+c\n",
        "plt.scatter(X, y)\n",
        "plt.plot(X, line);\n",
        "plt.show()"
      ],
      "metadata": {
        "id": "nb0UnAMCKfcN"
      },
      "execution_count": null,
      "outputs": []
    },
    {
      "cell_type": "markdown",
      "source": [
        "### **Making Prediction**"
      ],
      "metadata": {
        "id": "-NJ6dSDOMOlB"
      }
    },
    {
      "cell_type": "code",
      "source": [
        "y_new=model.predict(x_test)\n",
        "predicted_data=pd.DataFrame({'actual':y_test,'predicted':y_new})\n",
        "predicted_data"
      ],
      "metadata": {
        "id": "c6--4e9ELD45"
      },
      "execution_count": null,
      "outputs": []
    },
    {
      "cell_type": "markdown",
      "source": [
        " **what would be the predicted score if student studies for 8 hours?**"
      ],
      "metadata": {
        "id": "wuCRGq35Rwh3"
      }
    },
    {
      "cell_type": "code",
      "source": [
        "h=8\n",
        "s=model.predict([[h]])\n",
        "print('student studies for {} hours he will score {}'.format(h,s))"
      ],
      "metadata": {
        "id": "1onEkgc9LGfK"
      },
      "execution_count": null,
      "outputs": []
    },
    {
      "cell_type": "markdown",
      "source": [
        "### **Model Evaluation**"
      ],
      "metadata": {
        "id": "xQ0dMwaASdhR"
      }
    },
    {
      "cell_type": "code",
      "source": [
        "from sklearn import metrics  \n",
        "print('Mean Absolute Error:',metrics.mean_absolute_error(y_test, y_new)) "
      ],
      "metadata": {
        "id": "wDx_2bfFSirJ"
      },
      "execution_count": null,
      "outputs": []
    }
  ]
}